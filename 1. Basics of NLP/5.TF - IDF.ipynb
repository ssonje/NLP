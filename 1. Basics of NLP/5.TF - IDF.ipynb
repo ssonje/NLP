{
 "cells": [
  {
   "cell_type": "markdown",
   "metadata": {},
   "source": [
    "# Term Frequency and Inverse Document Frequency "
   ]
  },
  {
   "cell_type": "markdown",
   "metadata": {},
   "source": [
    "### Term Frequency :- \n",
    "    \n",
    "        No. of repetation of words in sentance\n",
    "       ----------------------------------------\n",
    "               No. of words in sentance"
   ]
  },
  {
   "cell_type": "markdown",
   "metadata": {},
   "source": [
    "### Inverse Document Frequency :-\n",
    "    \n",
    "    log (No of sentances / No. of sentances containing Words)"
   ]
  },
  {
   "cell_type": "markdown",
   "metadata": {},
   "source": [
    "## Final Output :- TF * IDF"
   ]
  },
  {
   "cell_type": "markdown",
   "metadata": {},
   "source": [
    "### Example :-\n",
    "\n",
    "        He is good boy.             he is boy                         good,boy\n",
    "        She is good girl.           she is good girl                  good,girl\n",
    "    Both boy and girl are good      both boy and girl are good        good,boy,girl\n",
    "    \n",
    "    word  count\n",
    "    boy     2                    \n",
    "    good    3\n",
    "    girl    2\n",
    "    \n",
    "    \n",
    "    TF :- \n",
    "    \n",
    "                    sent 1          sent 2          snet 3\n",
    "        \n",
    "        good         1/2             1/2             1/3\n",
    "        boy          1/2             0               1/3\n",
    "        girl         0               1/2             1/3\n",
    "        \n",
    "        \n",
    "    IDF :-\n",
    "    \n",
    "        good       log(3/3) = 0\n",
    "        boy        log(3/2)\n",
    "        girl       log(3/2)\n",
    "        \n",
    "    \n",
    "    TF * IDF\n",
    "    \n",
    "                        good           boy                 girl\n",
    "    sent 1               0        1/2 * (log(3/2))           0\n",
    "    sent 2               0              0               1/2 * (log(3/2))  \n",
    "    sent 3               0        1/3 * (log(3/2))      1/3 * (log(3/2))"
   ]
  },
  {
   "cell_type": "markdown",
   "metadata": {},
   "source": [
    "## Output from TF-IDF :-\n",
    "    Now we get perticular value for boy in sentance 1\n",
    "    Hence in sentance 2 girl has more importance.\n",
    "    So this is how TF-IDF give more importance to the important variable."
   ]
  },
  {
   "cell_type": "code",
   "execution_count": 3,
   "metadata": {},
   "outputs": [],
   "source": [
    "#importing nltk libraries\n",
    "import nltk"
   ]
  },
  {
   "cell_type": "code",
   "execution_count": 4,
   "metadata": {},
   "outputs": [],
   "source": [
    "#defining variable paragraph\n",
    "\n",
    "paragraph = \"\"\"Natural Language Processing (NLP) is a subfield of computer science, artificial intelligence, information engineering, and human-computer interaction. \n",
    "                This field focuses on how to program computers to process and analyze large amounts of natural language data. \n",
    "                It is difficult to perform as the process of reading and understanding languages is far more complex than it seems at first glance. \n",
    "                Tokenization is the process of tokenizing or splitting a string, text into a list of tokens. \n",
    "                One can think of token as parts like a word is a token in a sentence, and a sentence is a token in a paragraph.\"\"\""
   ]
  },
  {
   "cell_type": "code",
   "execution_count": 5,
   "metadata": {},
   "outputs": [],
   "source": [
    "#cleaning the text (lowering)\n",
    "import re\n",
    "\n",
    "#PorterStemmer is used to get the word stem\n",
    "from nltk.stem.porter import PorterStemmer\n",
    "\n",
    "#WordNetLemmatizer is used for limitization to the word stem\n",
    "from nltk.stem import WordNetLemmatizer\n",
    "\n",
    "#stopwords helps us to remove the words like 'for', 'then', 'from', 'and' which are repeting again and again\n",
    "#which does not put much value to identify sentance\n",
    "from nltk.corpus import stopwords"
   ]
  },
  {
   "cell_type": "code",
   "execution_count": 6,
   "metadata": {},
   "outputs": [],
   "source": [
    "#creating objects for PorterStemmer\n",
    "stemmer = PorterStemmer()\n",
    "\n",
    "#creating objects for WordNetLemmatizer\n",
    "lemmatizer = WordNetLemmatizer()\n",
    "\n",
    "#tokenizing sentances\n",
    "sentances = nltk.sent_tokenize(paragraph)\n",
    "\n",
    "#After cleaning the text we are going to store final result to corpus\n",
    "corpus = []"
   ]
  },
  {
   "cell_type": "code",
   "execution_count": 7,
   "metadata": {},
   "outputs": [
    {
     "data": {
      "text/plain": [
       "['natural language processing nlp subfield computer science artificial intelligence information engineering human computer interaction',\n",
       " 'field focus program computer process analyze large amount natural language data',\n",
       " 'difficult perform process reading understanding language far complex seems first glance',\n",
       " 'tokenization process tokenizing splitting string text list token',\n",
       " 'one think token part like word token sentence sentence token paragraph']"
      ]
     },
     "execution_count": 7,
     "metadata": {},
     "output_type": "execute_result"
    }
   ],
   "source": [
    "#words are not clear hence we do lemmatization.\n",
    "\n",
    "#Cleaning text lemmatization\n",
    "for i in range(len(sentances)):\n",
    "    \n",
    "    #replacing all other information like '. ,'  with space\n",
    "    review = re.sub('[^a-zA-Z]',' ', sentances[i])      \n",
    "    \n",
    "    #lowering the sentances\n",
    "    review = review.lower()\n",
    "    \n",
    "    #spliting the sentance to get the words\n",
    "    review = review.split()\n",
    "    \n",
    "    #list comprehension (stemming)\n",
    "    review = [lemmatizer.lemmatize(word) for word in review if word not in set(stopwords.words('english'))]\n",
    "    \n",
    "    #joining all the list of words to review\n",
    "    review = ' '.join(review)\n",
    "    \n",
    "    #appending all the words to corpus\n",
    "    corpus.append(review)\n",
    "    \n",
    "corpus"
   ]
  },
  {
   "cell_type": "code",
   "execution_count": 8,
   "metadata": {},
   "outputs": [],
   "source": [
    "#creating TF-IDF\n",
    "from sklearn.feature_extraction.text import TfidfVectorizer\n",
    "\n",
    "#Creating Object for TF-IDF\n",
    "object_TF_IDF = TfidfVectorizer()\n",
    "\n",
    "#converting our list of words to TF-IDF\n",
    "X = object_TF_IDF.fit_transform(corpus).toarray()"
   ]
  },
  {
   "cell_type": "code",
   "execution_count": 9,
   "metadata": {},
   "outputs": [
    {
     "data": {
      "text/plain": [
       "array([[0.        , 0.        , 0.27014111, 0.        , 0.43589629,\n",
       "        0.        , 0.        , 0.27014111, 0.        , 0.        ,\n",
       "        0.        , 0.        , 0.        , 0.27014111, 0.27014111,\n",
       "        0.27014111, 0.27014111, 0.18091665, 0.        , 0.        ,\n",
       "        0.        , 0.21794815, 0.27014111, 0.        , 0.        ,\n",
       "        0.        , 0.        , 0.        , 0.27014111, 0.        ,\n",
       "        0.        , 0.27014111, 0.        , 0.        , 0.        ,\n",
       "        0.        , 0.27014111, 0.        , 0.        , 0.        ,\n",
       "        0.        , 0.        , 0.        , 0.        ],\n",
       "       [0.32971067, 0.32971067, 0.        , 0.        , 0.26600849,\n",
       "        0.32971067, 0.        , 0.        , 0.        , 0.32971067,\n",
       "        0.        , 0.32971067, 0.        , 0.        , 0.        ,\n",
       "        0.        , 0.        , 0.22081108, 0.32971067, 0.        ,\n",
       "        0.        , 0.26600849, 0.        , 0.        , 0.        ,\n",
       "        0.        , 0.        , 0.22081108, 0.        , 0.32971067,\n",
       "        0.        , 0.        , 0.        , 0.        , 0.        ,\n",
       "        0.        , 0.        , 0.        , 0.        , 0.        ,\n",
       "        0.        , 0.        , 0.        , 0.        ],\n",
       "       [0.        , 0.        , 0.        , 0.31786859, 0.        ,\n",
       "        0.        , 0.31786859, 0.        , 0.31786859, 0.        ,\n",
       "        0.31786859, 0.        , 0.31786859, 0.        , 0.        ,\n",
       "        0.        , 0.        , 0.2128803 , 0.        , 0.        ,\n",
       "        0.        , 0.        , 0.        , 0.        , 0.        ,\n",
       "        0.        , 0.31786859, 0.2128803 , 0.        , 0.        ,\n",
       "        0.31786859, 0.        , 0.31786859, 0.        , 0.        ,\n",
       "        0.        , 0.        , 0.        , 0.        , 0.        ,\n",
       "        0.        , 0.        , 0.31786859, 0.        ],\n",
       "       [0.        , 0.        , 0.        , 0.        , 0.        ,\n",
       "        0.        , 0.        , 0.        , 0.        , 0.        ,\n",
       "        0.        , 0.        , 0.        , 0.        , 0.        ,\n",
       "        0.        , 0.        , 0.        , 0.        , 0.        ,\n",
       "        0.37530838, 0.        , 0.        , 0.        , 0.        ,\n",
       "        0.        , 0.        , 0.2513484 , 0.        , 0.        ,\n",
       "        0.        , 0.        , 0.        , 0.        , 0.37530838,\n",
       "        0.37530838, 0.        , 0.37530838, 0.        , 0.30279644,\n",
       "        0.37530838, 0.37530838, 0.        , 0.        ],\n",
       "       [0.        , 0.        , 0.        , 0.        , 0.        ,\n",
       "        0.        , 0.        , 0.        , 0.        , 0.        ,\n",
       "        0.        , 0.        , 0.        , 0.        , 0.        ,\n",
       "        0.        , 0.        , 0.        , 0.        , 0.25111488,\n",
       "        0.        , 0.        , 0.        , 0.25111488, 0.25111488,\n",
       "        0.25111488, 0.        , 0.        , 0.        , 0.        ,\n",
       "        0.        , 0.        , 0.        , 0.50222975, 0.        ,\n",
       "        0.        , 0.        , 0.        , 0.25111488, 0.6077937 ,\n",
       "        0.        , 0.        , 0.        , 0.25111488]])"
      ]
     },
     "execution_count": 9,
     "metadata": {},
     "output_type": "execute_result"
    }
   ],
   "source": [
    "#Printing the values\n",
    "X"
   ]
  },
  {
   "cell_type": "markdown",
   "metadata": {},
   "source": [
    "## Output :- Gives Importance to the various words which can be identificable."
   ]
  },
  {
   "cell_type": "code",
   "execution_count": null,
   "metadata": {},
   "outputs": [],
   "source": []
  }
 ],
 "metadata": {
  "kernelspec": {
   "display_name": "Python 3",
   "language": "python",
   "name": "python3"
  },
  "language_info": {
   "codemirror_mode": {
    "name": "ipython",
    "version": 3
   },
   "file_extension": ".py",
   "mimetype": "text/x-python",
   "name": "python",
   "nbconvert_exporter": "python",
   "pygments_lexer": "ipython3",
   "version": "3.7.3"
  }
 },
 "nbformat": 4,
 "nbformat_minor": 2
}
