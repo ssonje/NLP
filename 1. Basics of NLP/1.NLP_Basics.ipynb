{
 "cells": [
  {
   "cell_type": "markdown",
   "metadata": {},
   "source": [
    "# Natural Language Process"
   ]
  },
  {
   "cell_type": "markdown",
   "metadata": {},
   "source": [
    "###### 1. All the data is textual. To process these data in ML we need MLP"
   ]
  },
  {
   "cell_type": "markdown",
   "metadata": {},
   "source": [
    "###### 2.NLP Application :- Google Assistance"
   ]
  },
  {
   "cell_type": "markdown",
   "metadata": {},
   "source": [
    "###### Span classifier is Based on NLP"
   ]
  },
  {
   "cell_type": "markdown",
   "metadata": {},
   "source": [
    "###### nltk is used in NLP "
   ]
  },
  {
   "cell_type": "markdown",
   "metadata": {},
   "source": [
    "###### nltk tokenization is used to convert the paragraph to seperate sentances"
   ]
  },
  {
   "cell_type": "markdown",
   "metadata": {},
   "source": [
    "# NLTK Tokenization Example"
   ]
  },
  {
   "cell_type": "code",
   "execution_count": 79,
   "metadata": {},
   "outputs": [],
   "source": [
    "import nltk"
   ]
  },
  {
   "cell_type": "code",
   "execution_count": 80,
   "metadata": {},
   "outputs": [],
   "source": [
    "#defining variable paragraph\n",
    "\n",
    "paragraph = \"\"\"Natural Language Processing (NLP) is a subfield of computer science, artificial intelligence, information engineering, and human-computer interaction. \n",
    "                This field focuses on how to program computers to process and analyze large amounts of natural language data. \n",
    "                It is difficult to perform as the process of reading and understanding languages is far more complex than it seems at first glance. \n",
    "                Tokenization is the process of tokenizing or splitting a string, text into a list of tokens. \n",
    "                One can think of token as parts like a word is a token in a sentence, and a sentence is a token in a paragraph.\"\"\""
   ]
  },
  {
   "cell_type": "code",
   "execution_count": 81,
   "metadata": {},
   "outputs": [
    {
     "data": {
      "text/plain": [
       "['Natural Language Processing (NLP) is a subfield of computer science, artificial intelligence, information engineering, and human-computer interaction.',\n",
       " 'This field focuses on how to program computers to process and analyze large amounts of natural language data.',\n",
       " 'It is difficult to perform as the process of reading and understanding languages is far more complex than it seems at first glance.',\n",
       " 'Tokenization is the process of tokenizing or splitting a string, text into a list of tokens.',\n",
       " 'One can think of token as parts like a word is a token in a sentence, and a sentence is a token in a paragraph.']"
      ]
     },
     "execution_count": 81,
     "metadata": {},
     "output_type": "execute_result"
    }
   ],
   "source": [
    "#tokenizing sentances\n",
    "sentances = nltk.sent_tokenize(paragraph)\n",
    "\n",
    "#printing all sentances\n",
    "sentances"
   ]
  },
  {
   "cell_type": "code",
   "execution_count": 82,
   "metadata": {},
   "outputs": [
    {
     "data": {
      "text/plain": [
       "['Natural',\n",
       " 'Language',\n",
       " 'Processing',\n",
       " '(',\n",
       " 'NLP',\n",
       " ')',\n",
       " 'is',\n",
       " 'a',\n",
       " 'subfield',\n",
       " 'of',\n",
       " 'computer',\n",
       " 'science',\n",
       " ',',\n",
       " 'artificial',\n",
       " 'intelligence',\n",
       " ',',\n",
       " 'information',\n",
       " 'engineering',\n",
       " ',',\n",
       " 'and',\n",
       " 'human-computer',\n",
       " 'interaction',\n",
       " '.',\n",
       " 'This',\n",
       " 'field',\n",
       " 'focuses',\n",
       " 'on',\n",
       " 'how',\n",
       " 'to',\n",
       " 'program',\n",
       " 'computers',\n",
       " 'to',\n",
       " 'process',\n",
       " 'and',\n",
       " 'analyze',\n",
       " 'large',\n",
       " 'amounts',\n",
       " 'of',\n",
       " 'natural',\n",
       " 'language',\n",
       " 'data',\n",
       " '.',\n",
       " 'It',\n",
       " 'is',\n",
       " 'difficult',\n",
       " 'to',\n",
       " 'perform',\n",
       " 'as',\n",
       " 'the',\n",
       " 'process',\n",
       " 'of',\n",
       " 'reading',\n",
       " 'and',\n",
       " 'understanding',\n",
       " 'languages',\n",
       " 'is',\n",
       " 'far',\n",
       " 'more',\n",
       " 'complex',\n",
       " 'than',\n",
       " 'it',\n",
       " 'seems',\n",
       " 'at',\n",
       " 'first',\n",
       " 'glance',\n",
       " '.',\n",
       " 'Tokenization',\n",
       " 'is',\n",
       " 'the',\n",
       " 'process',\n",
       " 'of',\n",
       " 'tokenizing',\n",
       " 'or',\n",
       " 'splitting',\n",
       " 'a',\n",
       " 'string',\n",
       " ',',\n",
       " 'text',\n",
       " 'into',\n",
       " 'a',\n",
       " 'list',\n",
       " 'of',\n",
       " 'tokens',\n",
       " '.',\n",
       " 'One',\n",
       " 'can',\n",
       " 'think',\n",
       " 'of',\n",
       " 'token',\n",
       " 'as',\n",
       " 'parts',\n",
       " 'like',\n",
       " 'a',\n",
       " 'word',\n",
       " 'is',\n",
       " 'a',\n",
       " 'token',\n",
       " 'in',\n",
       " 'a',\n",
       " 'sentence',\n",
       " ',',\n",
       " 'and',\n",
       " 'a',\n",
       " 'sentence',\n",
       " 'is',\n",
       " 'a',\n",
       " 'token',\n",
       " 'in',\n",
       " 'a',\n",
       " 'paragraph',\n",
       " '.']"
      ]
     },
     "execution_count": 82,
     "metadata": {},
     "output_type": "execute_result"
    }
   ],
   "source": [
    "#tokenizing words\n",
    "words = nltk.word_tokenize(paragraph)\n",
    "\n",
    "#printing all sentances\n",
    "words"
   ]
  },
  {
   "cell_type": "code",
   "execution_count": null,
   "metadata": {},
   "outputs": [],
   "source": []
  }
 ],
 "metadata": {
  "kernelspec": {
   "display_name": "Python 3",
   "language": "python",
   "name": "python3"
  },
  "language_info": {
   "codemirror_mode": {
    "name": "ipython",
    "version": 3
   },
   "file_extension": ".py",
   "mimetype": "text/x-python",
   "name": "python",
   "nbconvert_exporter": "python",
   "pygments_lexer": "ipython3",
   "version": "3.7.3"
  }
 },
 "nbformat": 4,
 "nbformat_minor": 2
}
