{
 "cells": [
  {
   "cell_type": "markdown",
   "metadata": {},
   "source": [
    "# Lemmatization"
   ]
  },
  {
   "cell_type": "markdown",
   "metadata": {},
   "source": [
    "### Computer does not understand our words hence we need to convert them into numbers.\n",
    "\n",
    "\n",
    "\n",
    "### Sremmin is a process of reducing an infected words to their word step \n",
    "\n",
    "\n",
    "\n",
    "### Example :-\n",
    "    \n",
    "    finally\n",
    "    final       fina\n",
    "    finalize\n",
    "\n",
    "\n",
    "\n",
    "### So, using word stem, we can determine the whole word.\n",
    "\n",
    "\n",
    "\n",
    "### In use cases like spam classifier and restorant review, we can identify the word step is +ve or -ve\n",
    "\n",
    "### Lemmatization converts the word stem to meaning and human understandable word.\n",
    "\n",
    "### Example :-\n",
    "    finally\n",
    "    final        fina         final\n",
    "    finalize\n",
    "\n",
    "### Lemmatization converts the word stem to meaning and human understandable word.\n",
    "\n",
    "\n",
    "\n",
    "### Example :-\n",
    "    finally\n",
    "    final        fina         final\n",
    "    finalize"
   ]
  },
  {
   "cell_type": "code",
   "execution_count": 9,
   "metadata": {},
   "outputs": [],
   "source": [
    "import nltk\n",
    "\n",
    "#WordNetLemmatizer is used for limitization to the word stem\n",
    "from nltk.stem import WordNetLemmatizer\n",
    "\n",
    "#stopwords helps us to remove the words like 'for', 'then', 'from', 'and' which are repeting again and again\n",
    "#which does not put much value to identify sentance\n",
    "from nltk.corpus import stopwords"
   ]
  },
  {
   "cell_type": "code",
   "execution_count": 10,
   "metadata": {},
   "outputs": [],
   "source": [
    "#defining variable paragraph\n",
    "\n",
    "paragraph = \"\"\"Natural Language Processing (NLP) is a subfield of computer science, artificial intelligence, information engineering, and human-computer interaction. \n",
    "                This field focuses on how to program computers to process and analyze large amounts of natural language data. \n",
    "                It is difficult to perform as the process of reading and understanding languages is far more complex than it seems at first glance. \n",
    "                Tokenization is the process of tokenizing or splitting a string, text into a list of tokens. \n",
    "                One can think of token as parts like a word is a token in a sentence, and a sentence is a token in a paragraph.\"\"\""
   ]
  },
  {
   "cell_type": "code",
   "execution_count": 11,
   "metadata": {},
   "outputs": [
    {
     "data": {
      "text/plain": [
       "['Natural Language Processing (NLP) is a subfield of computer science, artificial intelligence, information engineering, and human-computer interaction.',\n",
       " 'This field focuses on how to program computers to process and analyze large amounts of natural language data.',\n",
       " 'It is difficult to perform as the process of reading and understanding languages is far more complex than it seems at first glance.',\n",
       " 'Tokenization is the process of tokenizing or splitting a string, text into a list of tokens.',\n",
       " 'One can think of token as parts like a word is a token in a sentence, and a sentence is a token in a paragraph.']"
      ]
     },
     "execution_count": 11,
     "metadata": {},
     "output_type": "execute_result"
    }
   ],
   "source": [
    "#tokenizing sentances\n",
    "\n",
    "sentances = nltk.sent_tokenize(paragraph)\n",
    "\n",
    "#printing all sentances\n",
    "sentances"
   ]
  },
  {
   "cell_type": "code",
   "execution_count": 12,
   "metadata": {},
   "outputs": [],
   "source": [
    "#creating objects for WordNetLemmatizer\n",
    "lemmatizer = WordNetLemmatizer()"
   ]
  },
  {
   "cell_type": "code",
   "execution_count": 13,
   "metadata": {},
   "outputs": [],
   "source": [
    "#Lemmatization\n",
    "for i in range(len(sentances)):\n",
    "    words = nltk.word_tokenize(sentances[i])\n",
    "    words = [lemmatizer.lemmatize(word) for word in words if word not in set(stopwords.words('english'))]\n",
    "    sentances[i] = ' '.join(words)"
   ]
  },
  {
   "cell_type": "code",
   "execution_count": 14,
   "metadata": {},
   "outputs": [
    {
     "data": {
      "text/plain": [
       "['Natural Language Processing ( NLP ) subfield computer science , artificial intelligence , information engineering , human-computer interaction .',\n",
       " 'This field focus program computer process analyze large amount natural language data .',\n",
       " 'It difficult perform process reading understanding language far complex seems first glance .',\n",
       " 'Tokenization process tokenizing splitting string , text list token .',\n",
       " 'One think token part like word token sentence , sentence token paragraph .']"
      ]
     },
     "execution_count": 14,
     "metadata": {},
     "output_type": "execute_result"
    }
   ],
   "source": [
    "#printing sentances\n",
    "sentances"
   ]
  },
  {
   "cell_type": "markdown",
   "metadata": {},
   "source": [
    "## Result :- We get a meaningful word after lemmatization"
   ]
  }
 ],
 "metadata": {
  "kernelspec": {
   "display_name": "Python 3",
   "language": "python",
   "name": "python3"
  },
  "language_info": {
   "codemirror_mode": {
    "name": "ipython",
    "version": 3
   },
   "file_extension": ".py",
   "mimetype": "text/x-python",
   "name": "python",
   "nbconvert_exporter": "python",
   "pygments_lexer": "ipython3",
   "version": "3.7.3"
  }
 },
 "nbformat": 4,
 "nbformat_minor": 2
}
